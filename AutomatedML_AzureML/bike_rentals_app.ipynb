{
 "cells": [
  {
   "cell_type": "code",
   "execution_count": 1,
   "metadata": {},
   "outputs": [],
   "source": [
    "from pycaret.regression import *\n",
    "import pickle\n",
    "import pandas as pd"
   ]
  },
  {
   "cell_type": "code",
   "execution_count": 2,
   "metadata": {},
   "outputs": [
    {
     "data": {
      "text/html": [
       "<style type=\"text/css\">\n",
       "#T_55531_row8_col1, #T_55531_row12_col1, #T_55531_row14_col1 {\n",
       "  background-color: lightgreen;\n",
       "}\n",
       "</style>\n",
       "<table id=\"T_55531\">\n",
       "  <thead>\n",
       "    <tr>\n",
       "      <th class=\"blank level0\" >&nbsp;</th>\n",
       "      <th id=\"T_55531_level0_col0\" class=\"col_heading level0 col0\" >Description</th>\n",
       "      <th id=\"T_55531_level0_col1\" class=\"col_heading level0 col1\" >Value</th>\n",
       "    </tr>\n",
       "  </thead>\n",
       "  <tbody>\n",
       "    <tr>\n",
       "      <th id=\"T_55531_level0_row0\" class=\"row_heading level0 row0\" >0</th>\n",
       "      <td id=\"T_55531_row0_col0\" class=\"data row0 col0\" >Session id</td>\n",
       "      <td id=\"T_55531_row0_col1\" class=\"data row0 col1\" >1234</td>\n",
       "    </tr>\n",
       "    <tr>\n",
       "      <th id=\"T_55531_level0_row1\" class=\"row_heading level0 row1\" >1</th>\n",
       "      <td id=\"T_55531_row1_col0\" class=\"data row1 col0\" >Target</td>\n",
       "      <td id=\"T_55531_row1_col1\" class=\"data row1 col1\" >rentals</td>\n",
       "    </tr>\n",
       "    <tr>\n",
       "      <th id=\"T_55531_level0_row2\" class=\"row_heading level0 row2\" >2</th>\n",
       "      <td id=\"T_55531_row2_col0\" class=\"data row2 col0\" >Target type</td>\n",
       "      <td id=\"T_55531_row2_col1\" class=\"data row2 col1\" >Regression</td>\n",
       "    </tr>\n",
       "    <tr>\n",
       "      <th id=\"T_55531_level0_row3\" class=\"row_heading level0 row3\" >3</th>\n",
       "      <td id=\"T_55531_row3_col0\" class=\"data row3 col0\" >Original data shape</td>\n",
       "      <td id=\"T_55531_row3_col1\" class=\"data row3 col1\" >(731, 13)</td>\n",
       "    </tr>\n",
       "    <tr>\n",
       "      <th id=\"T_55531_level0_row4\" class=\"row_heading level0 row4\" >4</th>\n",
       "      <td id=\"T_55531_row4_col0\" class=\"data row4 col0\" >Transformed data shape</td>\n",
       "      <td id=\"T_55531_row4_col1\" class=\"data row4 col1\" >(731, 13)</td>\n",
       "    </tr>\n",
       "    <tr>\n",
       "      <th id=\"T_55531_level0_row5\" class=\"row_heading level0 row5\" >5</th>\n",
       "      <td id=\"T_55531_row5_col0\" class=\"data row5 col0\" >Transformed train set shape</td>\n",
       "      <td id=\"T_55531_row5_col1\" class=\"data row5 col1\" >(511, 13)</td>\n",
       "    </tr>\n",
       "    <tr>\n",
       "      <th id=\"T_55531_level0_row6\" class=\"row_heading level0 row6\" >6</th>\n",
       "      <td id=\"T_55531_row6_col0\" class=\"data row6 col0\" >Transformed test set shape</td>\n",
       "      <td id=\"T_55531_row6_col1\" class=\"data row6 col1\" >(220, 13)</td>\n",
       "    </tr>\n",
       "    <tr>\n",
       "      <th id=\"T_55531_level0_row7\" class=\"row_heading level0 row7\" >7</th>\n",
       "      <td id=\"T_55531_row7_col0\" class=\"data row7 col0\" >Numeric features</td>\n",
       "      <td id=\"T_55531_row7_col1\" class=\"data row7 col1\" >12</td>\n",
       "    </tr>\n",
       "    <tr>\n",
       "      <th id=\"T_55531_level0_row8\" class=\"row_heading level0 row8\" >8</th>\n",
       "      <td id=\"T_55531_row8_col0\" class=\"data row8 col0\" >Preprocess</td>\n",
       "      <td id=\"T_55531_row8_col1\" class=\"data row8 col1\" >True</td>\n",
       "    </tr>\n",
       "    <tr>\n",
       "      <th id=\"T_55531_level0_row9\" class=\"row_heading level0 row9\" >9</th>\n",
       "      <td id=\"T_55531_row9_col0\" class=\"data row9 col0\" >Imputation type</td>\n",
       "      <td id=\"T_55531_row9_col1\" class=\"data row9 col1\" >simple</td>\n",
       "    </tr>\n",
       "    <tr>\n",
       "      <th id=\"T_55531_level0_row10\" class=\"row_heading level0 row10\" >10</th>\n",
       "      <td id=\"T_55531_row10_col0\" class=\"data row10 col0\" >Numeric imputation</td>\n",
       "      <td id=\"T_55531_row10_col1\" class=\"data row10 col1\" >mean</td>\n",
       "    </tr>\n",
       "    <tr>\n",
       "      <th id=\"T_55531_level0_row11\" class=\"row_heading level0 row11\" >11</th>\n",
       "      <td id=\"T_55531_row11_col0\" class=\"data row11 col0\" >Categorical imputation</td>\n",
       "      <td id=\"T_55531_row11_col1\" class=\"data row11 col1\" >mode</td>\n",
       "    </tr>\n",
       "    <tr>\n",
       "      <th id=\"T_55531_level0_row12\" class=\"row_heading level0 row12\" >12</th>\n",
       "      <td id=\"T_55531_row12_col0\" class=\"data row12 col0\" >Normalize</td>\n",
       "      <td id=\"T_55531_row12_col1\" class=\"data row12 col1\" >True</td>\n",
       "    </tr>\n",
       "    <tr>\n",
       "      <th id=\"T_55531_level0_row13\" class=\"row_heading level0 row13\" >13</th>\n",
       "      <td id=\"T_55531_row13_col0\" class=\"data row13 col0\" >Normalize method</td>\n",
       "      <td id=\"T_55531_row13_col1\" class=\"data row13 col1\" >zscore</td>\n",
       "    </tr>\n",
       "    <tr>\n",
       "      <th id=\"T_55531_level0_row14\" class=\"row_heading level0 row14\" >14</th>\n",
       "      <td id=\"T_55531_row14_col0\" class=\"data row14 col0\" >Transform target</td>\n",
       "      <td id=\"T_55531_row14_col1\" class=\"data row14 col1\" >True</td>\n",
       "    </tr>\n",
       "    <tr>\n",
       "      <th id=\"T_55531_level0_row15\" class=\"row_heading level0 row15\" >15</th>\n",
       "      <td id=\"T_55531_row15_col0\" class=\"data row15 col0\" >Transform target method</td>\n",
       "      <td id=\"T_55531_row15_col1\" class=\"data row15 col1\" >yeo-johnson</td>\n",
       "    </tr>\n",
       "    <tr>\n",
       "      <th id=\"T_55531_level0_row16\" class=\"row_heading level0 row16\" >16</th>\n",
       "      <td id=\"T_55531_row16_col0\" class=\"data row16 col0\" >Fold Generator</td>\n",
       "      <td id=\"T_55531_row16_col1\" class=\"data row16 col1\" >KFold</td>\n",
       "    </tr>\n",
       "    <tr>\n",
       "      <th id=\"T_55531_level0_row17\" class=\"row_heading level0 row17\" >17</th>\n",
       "      <td id=\"T_55531_row17_col0\" class=\"data row17 col0\" >Fold Number</td>\n",
       "      <td id=\"T_55531_row17_col1\" class=\"data row17 col1\" >10</td>\n",
       "    </tr>\n",
       "    <tr>\n",
       "      <th id=\"T_55531_level0_row18\" class=\"row_heading level0 row18\" >18</th>\n",
       "      <td id=\"T_55531_row18_col0\" class=\"data row18 col0\" >CPU Jobs</td>\n",
       "      <td id=\"T_55531_row18_col1\" class=\"data row18 col1\" >-1</td>\n",
       "    </tr>\n",
       "    <tr>\n",
       "      <th id=\"T_55531_level0_row19\" class=\"row_heading level0 row19\" >19</th>\n",
       "      <td id=\"T_55531_row19_col0\" class=\"data row19 col0\" >Use GPU</td>\n",
       "      <td id=\"T_55531_row19_col1\" class=\"data row19 col1\" >False</td>\n",
       "    </tr>\n",
       "    <tr>\n",
       "      <th id=\"T_55531_level0_row20\" class=\"row_heading level0 row20\" >20</th>\n",
       "      <td id=\"T_55531_row20_col0\" class=\"data row20 col0\" >Log Experiment</td>\n",
       "      <td id=\"T_55531_row20_col1\" class=\"data row20 col1\" >False</td>\n",
       "    </tr>\n",
       "    <tr>\n",
       "      <th id=\"T_55531_level0_row21\" class=\"row_heading level0 row21\" >21</th>\n",
       "      <td id=\"T_55531_row21_col0\" class=\"data row21 col0\" >Experiment Name</td>\n",
       "      <td id=\"T_55531_row21_col1\" class=\"data row21 col1\" >mslearn-bike-rental</td>\n",
       "    </tr>\n",
       "    <tr>\n",
       "      <th id=\"T_55531_level0_row22\" class=\"row_heading level0 row22\" >22</th>\n",
       "      <td id=\"T_55531_row22_col0\" class=\"data row22 col0\" >USI</td>\n",
       "      <td id=\"T_55531_row22_col1\" class=\"data row22 col1\" >4f4b</td>\n",
       "    </tr>\n",
       "  </tbody>\n",
       "</table>\n"
      ],
      "text/plain": [
       "<pandas.io.formats.style.Styler at 0x1e7f240ff70>"
      ]
     },
     "metadata": {},
     "output_type": "display_data"
    }
   ],
   "source": [
    "bikerentals = pd.read_csv('https://aka.ms/bike-rentals')\n",
    "\n",
    "job2 = load_experiment('Bike rentals experiment', data = bikerentals)"
   ]
  },
  {
   "cell_type": "code",
   "execution_count": 3,
   "metadata": {},
   "outputs": [],
   "source": [
    "modelo = open('modelo_bike_rentals_pycaret','rb')\n",
    "\n",
    "modelo_final = pickle.load(modelo)\n",
    "\n",
    "modelo.close()"
   ]
  },
  {
   "cell_type": "code",
   "execution_count": 4,
   "metadata": {},
   "outputs": [
    {
     "name": "stdout",
     "output_type": "stream",
     "text": [
      "Running on local URL:  http://127.0.0.1:7860\n",
      "\n",
      "To create a public link, set `share=True` in `launch()`.\n"
     ]
    },
    {
     "data": {
      "text/html": [
       "<div><iframe src=\"http://127.0.0.1:7860/\" width=\"100%\" height=\"500\" allow=\"autoplay; camera; microphone; clipboard-read; clipboard-write;\" frameborder=\"0\" allowfullscreen></iframe></div>"
      ],
      "text/plain": [
       "<IPython.core.display.HTML object>"
      ]
     },
     "metadata": {},
     "output_type": "display_data"
    },
    {
     "data": {
      "text/plain": []
     },
     "execution_count": 4,
     "metadata": {},
     "output_type": "execute_result"
    }
   ],
   "source": [
    "create_app(modelo_final)"
   ]
  }
 ],
 "metadata": {
  "kernelspec": {
   "display_name": "Pycaret",
   "language": "python",
   "name": "python3"
  },
  "language_info": {
   "codemirror_mode": {
    "name": "ipython",
    "version": 3
   },
   "file_extension": ".py",
   "mimetype": "text/x-python",
   "name": "python",
   "nbconvert_exporter": "python",
   "pygments_lexer": "ipython3",
   "version": "3.9.17"
  },
  "orig_nbformat": 4
 },
 "nbformat": 4,
 "nbformat_minor": 2
}
